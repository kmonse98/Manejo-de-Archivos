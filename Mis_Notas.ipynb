{
 "cells": [
  {
   "cell_type": "markdown",
   "metadata": {},
   "source": [
    "Una forma esencial de escribir un programa es a través de archivos llamados scripts, que no son más que lotes de instrucciones. Luego se envía este archivo al intérprete como parámetro desde la terminal de comando (si es un lenguaje interpretado como Python) y éste ejecutará todas las instrucciones en bloque.\n",
    "Una característica interesante de los scripts es que pueden recibir datos desde la propia terminal de comando en el momento de la ejecución, algo muy útil para agregar dinamismo a los scripts a través de parámetros o argumentos personalizables.\n",
    "Para poder enviar información a un script y manejarla, tenemos que utilizar la librería de sistema **sys**. En ella encontraremos la lista **argv** que almacena los argumentos enviados al script.\n",
    "Suponiendo que creamos un script llamado \"ejemplo1.py\" que tenga el siguiente código:"
   ]
  },
  {
   "cell_type": "code",
   "execution_count": null,
   "metadata": {},
   "outputs": [],
   "source": [
    "import sys\n",
    "# Comprobación de seguridad, ejecutar solo si se escriben 2 argumentos realmente\n",
    "if len(sys.argv) == 3:\n",
    "    texto = sys.argv[1]\n",
    "    repeticiones = int(sys.argv[2])\n",
    "    for r in range(repeticiones):\n",
    "        print(texto)\n",
    "else:\n",
    "    print(\"ERROR: Introdujo uno (1) o más de dos (2) argumentos \")\n",
    "    print(\"EJEMPLO: python ejemplo1.py 'Texto' 5\")\n",
    "    print(\"Nota: El argumento 0 es el nombre del archivo:\",sys.argv[0])\n"
   ]
  },
  {
   "cell_type": "markdown",
   "metadata": {},
   "source": [
    "Luego en la consola, realizar la ejecución del script, por ejemplo:\n",
    ">> python ejemplo_parametros.py 'Hola' 4 <<\n",
    "Tips: Notar que la lista de argumentos argv contiene en su elemento 0 el nombre del archivo.\n",
    "Nota: ejemplo1.py ya se encuentra escrito en esta sección."
   ]
  },
  {
   "cell_type": "markdown",
   "metadata": {},
   "source": [
    "### Manejo de Archivos\n",
    "\n",
    "Un requisito muy común va a ser leer datos desde archivos de texto o también llamados secuenciales. Para esto Python incorpora un tipo integrado llamado **file**. Es importante notar que estos archivos siempre devuelven los datos como cadenas de caracteres, por lo tanto, de ser necesario, otros tipos deben ser convertidos.\n",
    "\n",
    "* Crear un archivo a partir de datos presentes en una lista:"
   ]
  },
  {
   "cell_type": "code",
   "execution_count": 1,
   "metadata": {},
   "outputs": [],
   "source": [
    "import os\n",
    "lineas_archivo = ['Esto es un archivo de ejemplo','Segunda linea','Tercera linea']\n",
    "archivo = open('datos.txt', 'w')\n",
    "for linea in lineas_archivo:\n",
    "    archivo.write(linea+'\\n')\n",
    "archivo.close()"
   ]
  },
  {
   "cell_type": "markdown",
   "metadata": {},
   "source": [
    "Es importante cerrar el archivo, ya que si no lo hacemos, el sistema operativo interpreta que está en uso, tal como si estuviera abierto en cualquier editor de texto.\n",
    "\n",
    "* Abrir un archivo, e iterar en él para leerlo:"
   ]
  },
  {
   "cell_type": "code",
   "execution_count": 2,
   "metadata": {},
   "outputs": [
    {
     "name": "stdout",
     "output_type": "stream",
     "text": [
      "Esto es un archivo de ejemplo\n",
      "\n",
      "Segunda linea\n",
      "\n",
      "Tercera linea\n",
      "\n"
     ]
    }
   ],
   "source": [
    "import os\n",
    "archivo = open('datos.txt', 'r')\n",
    "for linea in archivo:\n",
    "    print (linea)\n",
    "archivo.close()"
   ]
  },
  {
   "cell_type": "markdown",
   "metadata": {},
   "source": [
    "Tips: Notar que la función open tiene como primer parámetro el nombre del archivo y como segundo parámetro un carácter que indica el modo de apertura:\n",
    "  Con 'x' creará el archivo, sin embargo retorna error si ya existe\n",
    "  Con 'a' agregá contenido si el archivo existe, si no lo crea\n",
    "  Con 'w' crea el archivo directamente, si existe y tiene contenido lo pisa"
   ]
  },
  {
   "cell_type": "markdown",
   "metadata": {},
   "source": [
    "### Interactuar con el sistema de archivos\n",
    "\n",
    "El módulo **os** de Python permite realizar operaciones dependiente del Sistema Operativo como crear una carpeta, listar contenidos de una carpeta, conocer acerca de un proceso, finalizar un proceso, etc."
   ]
  },
  {
   "cell_type": "code",
   "execution_count": null,
   "metadata": {},
   "outputs": [],
   "source": [
    "* Crear una carpeta nueva\n",
    "``` python\n",
    ">>> import os\n",
    ">>> os.makedirs(\"Mi_Carpeta\")"
   ]
  }
 ],
 "metadata": {
  "interpreter": {
   "hash": "845123a55cf8f712ea133901aaf32d326470d1da16ed397338e0d83c91e9d420"
  },
  "kernelspec": {
   "display_name": "Python 3.10.4 64-bit",
   "language": "python",
   "name": "python3"
  },
  "language_info": {
   "codemirror_mode": {
    "name": "ipython",
    "version": 3
   },
   "file_extension": ".py",
   "mimetype": "text/x-python",
   "name": "python",
   "nbconvert_exporter": "python",
   "pygments_lexer": "ipython3",
   "version": "3.10.4"
  },
  "orig_nbformat": 4
 },
 "nbformat": 4,
 "nbformat_minor": 2
}
